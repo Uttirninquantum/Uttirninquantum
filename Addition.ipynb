{
  "nbformat": 4,
  "nbformat_minor": 0,
  "metadata": {
    "colab": {
      "name": " Addition",
      "provenance": [],
      "authorship_tag": "ABX9TyOa6+cZ/xDJ1FvKp8T5AvII",
      "include_colab_link": true
    },
    "kernelspec": {
      "name": "python3",
      "display_name": "Python 3"
    },
    "language_info": {
      "name": "python"
    }
  },
  "cells": [
    {
      "cell_type": "markdown",
      "metadata": {
        "id": "view-in-github",
        "colab_type": "text"
      },
      "source": [
        "<a href=\"https://colab.research.google.com/github/Uttirninquantum/Uttirninquantum/blob/main/Addition.ipynb\" target=\"_parent\"><img src=\"https://colab.research.google.com/assets/colab-badge.svg\" alt=\"Open In Colab\"/></a>"
      ]
    },
    {
      "cell_type": "code",
      "execution_count": null,
      "metadata": {
        "id": "jxgX4WPNE8uR"
      },
      "outputs": [],
      "source": [
        "from qiskit import *\n",
        "%matplotlib inline\n",
        "import pylatexenc"
      ]
    },
    {
      "cell_type": "code",
      "source": [
        "cir=QuantumCircuit(5,5)\n",
        "cir.x([0,2])\n",
        "cir.x([0,2])\n",
        "cir.x([1,3])\n",
        "cir.measure([0,1,2,3],[0,1,2,3])\n",
        "cir.draw(output='mpl')"
      ],
      "metadata": {
        "colab": {
          "base_uri": "https://localhost:8080/",
          "height": 322
        },
        "id": "kzKvQuHSHWyi",
        "outputId": "20974ff6-6305-441b-b4d1-21983c239fef"
      },
      "execution_count": null,
      "outputs": [
        {
          "output_type": "execute_result",
          "data": {
            "text/plain": [
              "<Figure size 387.597x385.28 with 1 Axes>"
            ],
            "image/png": "[encoded data removed]"
          },
          "metadata": {},
          "execution_count": 3
        }
      ]
    },
    {
      "cell_type": "code",
      "source": [
        "\n",
        "from qiskit.providers.aer import AerSimulator \n",
        "sim=AerSimulator()\n",
        "job=sim.run(cir)\n",
        "result=job.result()\n",
        "result.get_counts()"
      ],
      "metadata": {
        "colab": {
          "base_uri": "https://localhost:8080/"
        },
        "id": "VZfNQmr7Kji_",
        "outputId": "22697603-1868-4165-c3c4-f68c360da60a"
      },
      "execution_count": null,
      "outputs": [
        {
          "output_type": "execute_result",
          "data": {
            "text/plain": [
              "{'01010': 1024}"
            ]
          },
          "metadata": {},
          "execution_count": 4
        }
      ]
    }
  ]
}